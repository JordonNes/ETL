{
 "cells": [
  {
   "cell_type": "code",
   "execution_count": 717,
   "metadata": {},
   "outputs": [],
   "source": [
    "#dependencies\n",
    "import numpy as np\n",
    "import pandas as pd\n",
    "import os\n",
    "import csv"
   ]
  },
  {
   "cell_type": "code",
   "execution_count": 835,
   "metadata": {},
   "outputs": [
    {
     "data": {
      "text/html": [
       "<div>\n",
       "<style scoped>\n",
       "    .dataframe tbody tr th:only-of-type {\n",
       "        vertical-align: middle;\n",
       "    }\n",
       "\n",
       "    .dataframe tbody tr th {\n",
       "        vertical-align: top;\n",
       "    }\n",
       "\n",
       "    .dataframe thead th {\n",
       "        text-align: right;\n",
       "    }\n",
       "</style>\n",
       "<table border=\"1\" class=\"dataframe\">\n",
       "  <thead>\n",
       "    <tr style=\"text-align: right;\">\n",
       "      <th></th>\n",
       "      <th>Unnamed: 0</th>\n",
       "      <th>Player</th>\n",
       "      <th>height</th>\n",
       "      <th>weight</th>\n",
       "      <th>collage</th>\n",
       "      <th>born</th>\n",
       "      <th>birth_city</th>\n",
       "      <th>birth_state</th>\n",
       "    </tr>\n",
       "  </thead>\n",
       "  <tbody>\n",
       "    <tr>\n",
       "      <td>0</td>\n",
       "      <td>0</td>\n",
       "      <td>Curly Armstrong</td>\n",
       "      <td>180.0</td>\n",
       "      <td>77.0</td>\n",
       "      <td>Indiana University</td>\n",
       "      <td>1918.0</td>\n",
       "      <td>NaN</td>\n",
       "      <td>NaN</td>\n",
       "    </tr>\n",
       "    <tr>\n",
       "      <td>1</td>\n",
       "      <td>1</td>\n",
       "      <td>Cliff Barker</td>\n",
       "      <td>188.0</td>\n",
       "      <td>83.0</td>\n",
       "      <td>University of Kentucky</td>\n",
       "      <td>1921.0</td>\n",
       "      <td>Yorktown</td>\n",
       "      <td>Indiana</td>\n",
       "    </tr>\n",
       "    <tr>\n",
       "      <td>2</td>\n",
       "      <td>2</td>\n",
       "      <td>Leo Barnhorst</td>\n",
       "      <td>193.0</td>\n",
       "      <td>86.0</td>\n",
       "      <td>University of Notre Dame</td>\n",
       "      <td>1924.0</td>\n",
       "      <td>NaN</td>\n",
       "      <td>NaN</td>\n",
       "    </tr>\n",
       "    <tr>\n",
       "      <td>3</td>\n",
       "      <td>3</td>\n",
       "      <td>Ed Bartels</td>\n",
       "      <td>196.0</td>\n",
       "      <td>88.0</td>\n",
       "      <td>North Carolina State University</td>\n",
       "      <td>1925.0</td>\n",
       "      <td>NaN</td>\n",
       "      <td>NaN</td>\n",
       "    </tr>\n",
       "    <tr>\n",
       "      <td>4</td>\n",
       "      <td>4</td>\n",
       "      <td>Ralph Beard</td>\n",
       "      <td>178.0</td>\n",
       "      <td>79.0</td>\n",
       "      <td>University of Kentucky</td>\n",
       "      <td>1927.0</td>\n",
       "      <td>Hardinsburg</td>\n",
       "      <td>Kentucky</td>\n",
       "    </tr>\n",
       "    <tr>\n",
       "      <td>...</td>\n",
       "      <td>...</td>\n",
       "      <td>...</td>\n",
       "      <td>...</td>\n",
       "      <td>...</td>\n",
       "      <td>...</td>\n",
       "      <td>...</td>\n",
       "      <td>...</td>\n",
       "      <td>...</td>\n",
       "    </tr>\n",
       "    <tr>\n",
       "      <td>3917</td>\n",
       "      <td>3917</td>\n",
       "      <td>Troy Williams</td>\n",
       "      <td>198.0</td>\n",
       "      <td>97.0</td>\n",
       "      <td>South Carolina State University</td>\n",
       "      <td>1969.0</td>\n",
       "      <td>Columbia</td>\n",
       "      <td>South Carolina</td>\n",
       "    </tr>\n",
       "    <tr>\n",
       "      <td>3918</td>\n",
       "      <td>3918</td>\n",
       "      <td>Kyle Wiltjer</td>\n",
       "      <td>208.0</td>\n",
       "      <td>108.0</td>\n",
       "      <td>Gonzaga University</td>\n",
       "      <td>1992.0</td>\n",
       "      <td>Portland</td>\n",
       "      <td>Oregon</td>\n",
       "    </tr>\n",
       "    <tr>\n",
       "      <td>3919</td>\n",
       "      <td>3919</td>\n",
       "      <td>Stephen Zimmerman</td>\n",
       "      <td>213.0</td>\n",
       "      <td>108.0</td>\n",
       "      <td>University of Nevada, Las Vegas</td>\n",
       "      <td>1996.0</td>\n",
       "      <td>Hendersonville</td>\n",
       "      <td>Tennessee</td>\n",
       "    </tr>\n",
       "    <tr>\n",
       "      <td>3920</td>\n",
       "      <td>3920</td>\n",
       "      <td>Paul Zipser</td>\n",
       "      <td>203.0</td>\n",
       "      <td>97.0</td>\n",
       "      <td>NaN</td>\n",
       "      <td>1994.0</td>\n",
       "      <td>Heidelberg</td>\n",
       "      <td>Germany</td>\n",
       "    </tr>\n",
       "    <tr>\n",
       "      <td>3921</td>\n",
       "      <td>3921</td>\n",
       "      <td>Ivica Zubac</td>\n",
       "      <td>216.0</td>\n",
       "      <td>120.0</td>\n",
       "      <td>NaN</td>\n",
       "      <td>1997.0</td>\n",
       "      <td>Mostar</td>\n",
       "      <td>Bosnia and Herzegovina</td>\n",
       "    </tr>\n",
       "  </tbody>\n",
       "</table>\n",
       "<p>3922 rows × 8 columns</p>\n",
       "</div>"
      ],
      "text/plain": [
       "      Unnamed: 0             Player  height  weight  \\\n",
       "0              0    Curly Armstrong   180.0    77.0   \n",
       "1              1       Cliff Barker   188.0    83.0   \n",
       "2              2      Leo Barnhorst   193.0    86.0   \n",
       "3              3         Ed Bartels   196.0    88.0   \n",
       "4              4        Ralph Beard   178.0    79.0   \n",
       "...          ...                ...     ...     ...   \n",
       "3917        3917      Troy Williams   198.0    97.0   \n",
       "3918        3918       Kyle Wiltjer   208.0   108.0   \n",
       "3919        3919  Stephen Zimmerman   213.0   108.0   \n",
       "3920        3920        Paul Zipser   203.0    97.0   \n",
       "3921        3921        Ivica Zubac   216.0   120.0   \n",
       "\n",
       "                              collage    born      birth_city  \\\n",
       "0                  Indiana University  1918.0             NaN   \n",
       "1              University of Kentucky  1921.0        Yorktown   \n",
       "2            University of Notre Dame  1924.0             NaN   \n",
       "3     North Carolina State University  1925.0             NaN   \n",
       "4              University of Kentucky  1927.0     Hardinsburg   \n",
       "...                               ...     ...             ...   \n",
       "3917  South Carolina State University  1969.0        Columbia   \n",
       "3918               Gonzaga University  1992.0        Portland   \n",
       "3919  University of Nevada, Las Vegas  1996.0  Hendersonville   \n",
       "3920                              NaN  1994.0      Heidelberg   \n",
       "3921                              NaN  1997.0          Mostar   \n",
       "\n",
       "                 birth_state  \n",
       "0                        NaN  \n",
       "1                    Indiana  \n",
       "2                        NaN  \n",
       "3                        NaN  \n",
       "4                   Kentucky  \n",
       "...                      ...  \n",
       "3917          South Carolina  \n",
       "3918                  Oregon  \n",
       "3919               Tennessee  \n",
       "3920                 Germany  \n",
       "3921  Bosnia and Herzegovina  \n",
       "\n",
       "[3922 rows x 8 columns]"
      ]
     },
     "execution_count": 835,
     "metadata": {},
     "output_type": "execute_result"
    }
   ],
   "source": [
    "# We Import NBA PLayer's Career Profile\n",
    "#    This will tell us where they are from\n",
    "\n",
    "players = './resources/Players.csv'\n",
    "career= pd.read_csv(players)\n",
    "\n",
    "# print('Number of Rows', len(career))\n",
    "career.count()"
   ]
  },
  {
   "cell_type": "code",
   "execution_count": 749,
   "metadata": {},
   "outputs": [
    {
     "data": {
      "text/plain": [
       "Player        4550\n",
       "year_start    4550\n",
       "year_end      4550\n",
       "position      4549\n",
       "height        4549\n",
       "weight        4544\n",
       "birth_date    4519\n",
       "college       4248\n",
       "dtype: int64"
      ]
     },
     "execution_count": 749,
     "metadata": {},
     "output_type": "execute_result"
    }
   ],
   "source": [
    "#  We Import NBA Player's Season Profiles\n",
    "#    This will tell us where they played\n",
    "\n",
    "player_data = './resources/player_data.csv'\n",
    "plyr_season = pd.read_csv(player_data)\n",
    "\n",
    "# Renames the Column 'name' to 'Player'\n",
    "plyr_season = plyr_season.rename(columns={'name': 'Player'})\n",
    "\n",
    "# print('Number of Rows', len(plyr_season))\n",
    "plyr_season.count()"
   ]
  },
  {
   "cell_type": "code",
   "execution_count": 816,
   "metadata": {},
   "outputs": [
    {
     "name": "stdout",
     "output_type": "stream",
     "text": [
      "Number of Rows 4550\n"
     ]
    },
    {
     "data": {
      "text/plain": [
       "Player         4550\n",
       "year_start     4550\n",
       "year_end       4550\n",
       "position       4549\n",
       "height_x       4549\n",
       "weight_x       4544\n",
       "birth_date     4519\n",
       "college        4248\n",
       "Unnamed: 0     3814\n",
       "height_y       3814\n",
       "weight_y       3814\n",
       "collage        3497\n",
       "born           3814\n",
       "birth_city     3367\n",
       "birth_state    3353\n",
       "dtype: int64"
      ]
     },
     "execution_count": 816,
     "metadata": {},
     "output_type": "execute_result"
    }
   ],
   "source": [
    "# Merge the plyr_season & career Dataframes on 'Players'\n",
    "\n",
    "Player_Profile_Dirty = pd.merge(plyr_season, career, how='left', on=[\"Player\",\"Player\"])\n",
    "\n",
    "print('Number of Rows', len(Player_Profile_Dirty))\n",
    "Player_Profile_Dirty.count()"
   ]
  },
  {
   "cell_type": "code",
   "execution_count": 850,
   "metadata": {
    "scrolled": true
   },
   "outputs": [
    {
     "name": "stdout",
     "output_type": "stream",
     "text": [
      "length of PPD 4550\n",
      "length of P_htwt 4550\n",
      "length of P_college 4550\n"
     ]
    }
   ],
   "source": [
    "# Create DataFrames and edit Column Names\n",
    "\n",
    "\n",
    "new_columns = [\n",
    "'Player',\n",
    "'birth_state',\n",
    "'position']\n",
    "PP= Player_Profile_Dirty[new_columns]\n",
    "# Renames Columns\n",
    "PPD = PP.rename(columns={\n",
    "    'birth_state':'State',})\n",
    "print('length of PPD', len(PPD))\n",
    "\n",
    "\n",
    "\n",
    "# -----------\n",
    "htwt = [\n",
    "    'Player',\n",
    "    'height_y',\n",
    "    'weight_x']\n",
    "player_htwt= Player_Profile_Dirty[htwt]\n",
    "# Renames Columns\n",
    "P_htwt = player_htwt.rename(columns={\n",
    "    'height_y':'Height (cm)',\n",
    "    'weight_x':'Weight (lbs)'})\n",
    "print('length of P_htwt', len(P_htwt))\n",
    "\n",
    "\n",
    "\n",
    "# -----------\n",
    "college = [\n",
    "    'Player',\n",
    "    'college']\n",
    "player_college= Player_Profile_Dirty[college]\n",
    "# Renames Columns\n",
    "P_college = player_college.rename(columns={\n",
    "   'college':'College'})\n",
    "print('length of P_college', len(P_college))\n",
    "\n",
    "\n",
    "\n",
    "# PPD.count()\n",
    "# P_htwt.count()\n",
    "# P_college.count()"
   ]
  },
  {
   "cell_type": "code",
   "execution_count": 851,
   "metadata": {},
   "outputs": [],
   "source": [
    "# We Import United States latitude and Longitude\n",
    "\n",
    "LL= './resources/50_SLat_Lng.csv'\n",
    "ltlg= pd.read_csv(LL)\n",
    "\n",
    "# Renames Colums\n",
    "lat_lng= ltlg.rename(columns={\n",
    "    'Place Name':'State'})\n",
    "# lat_lng"
   ]
  },
  {
   "cell_type": "code",
   "execution_count": 852,
   "metadata": {},
   "outputs": [
    {
     "data": {
      "text/plain": [
       "Player       4550\n",
       "State        3353\n",
       "position     4549\n",
       "Latitude     2928\n",
       "Longitude    2928\n",
       "dtype: int64"
      ]
     },
     "execution_count": 852,
     "metadata": {},
     "output_type": "execute_result"
    }
   ],
   "source": [
    "#  Merge Player Profile Dataframe  with Lat. & Lng Dataframe\n",
    "\n",
    "Player_Profile_State = pd.merge(PPD,lat_lng, how='left', on=[\"State\",\"State\"])\n",
    "# print(len(Player_Profile_State))\n",
    "Player_Profile_State.count()"
   ]
  },
  {
   "cell_type": "code",
   "execution_count": 853,
   "metadata": {},
   "outputs": [
    {
     "name": "stdout",
     "output_type": "stream",
     "text": [
      "Old data frame length: 4550 \n",
      "New data frame length: 2927 \n",
      "Number of Player Not Born In USA:  1623\n"
     ]
    },
    {
     "data": {
      "text/plain": [
       "Player       4550\n",
       "State        3353\n",
       "position     4549\n",
       "Latitude     2928\n",
       "Longitude    2928\n",
       "dtype: int64"
      ]
     },
     "execution_count": 853,
     "metadata": {},
     "output_type": "execute_result"
    }
   ],
   "source": [
    "# Remove Players not Born in the USA or info not recorded (1622)\n",
    "# Remove Duplicate Players by -> name and state\n",
    "\n",
    "Player_State = Player_Profile_State.dropna(axis = 0, how ='any') \n",
    "\n",
    "\n",
    "print(\"Old data frame length:\", len(Player_Profile_State),\n",
    "      \"\\nNew data frame length:\", len(Player_State),\n",
    "      \"\\nNumber of Player Not Born In USA: \",(len(Player_Profile_State)-len(Player_State)))\n",
    "Player_Profile_State.count()\n",
    "# Player_State.count()"
   ]
  },
  {
   "cell_type": "code",
   "execution_count": 854,
   "metadata": {},
   "outputs": [
    {
     "name": "stdout",
     "output_type": "stream",
     "text": [
      "Old data frame length: 2927 \n",
      "New data frame length: 2844 \n",
      "Number of Players with Incomplete Ht&Wt Data:  83\n"
     ]
    },
    {
     "data": {
      "text/plain": [
       "Player          2844\n",
       "State           2844\n",
       "position        2844\n",
       "Latitude        2844\n",
       "Longitude       2844\n",
       "Height (cm)     2844\n",
       "Weight (lbs)    2844\n",
       "dtype: int64"
      ]
     },
     "execution_count": 854,
     "metadata": {},
     "output_type": "execute_result"
    }
   ],
   "source": [
    "# ADD USA BORN PLAYERS  College Height and Weight\n",
    "# Remove Duplicate Players by -> name and state\n",
    "# Remove player with imcomplete Ht & Wt Data\n",
    "\n",
    "\n",
    "Player_htwt = pd.merge(Player_State, P_htwt, how='left', on=[\"Player\",\"Player\"])\n",
    "\n",
    "Player_htwt.drop_duplicates(subset =('Player', 'State'),\n",
    "                            keep = False, inplace = True)\n",
    "Player_Profile = Player_htwt.dropna(axis = 0, how ='any') \n",
    "\n",
    "print(\"Old data frame length:\", len(Player_State),\n",
    "      \"\\nNew data frame length:\", len(Player_Profile),\n",
    "      \"\\nNumber of Players with Incomplete Ht&Wt Data: \",len(Player_State)-len(Player_Profile))\n",
    "\n",
    "Player_Profile.count()"
   ]
  },
  {
   "cell_type": "code",
   "execution_count": 855,
   "metadata": {},
   "outputs": [],
   "source": [
    "# Time to Add Statistics !!!\n",
    "\n",
    "\n",
    "\n",
    "# We Import NBA Teams Location\n",
    "\n",
    "tll = './resources/NBATeamLL.csv'\n",
    "Team_LL= pd.read_csv(tll)\n",
    "# Team_LL"
   ]
  },
  {
   "cell_type": "code",
   "execution_count": 856,
   "metadata": {},
   "outputs": [],
   "source": [
    "# # We Import NBA Player Season Stats\n",
    "\n",
    "Season_stats = './resources/Seasons_Stats.csv'\n",
    "stats_season = pd.read_csv(Season_stats)\n",
    "#  Renames Columns\n",
    "\n",
    "dirty_stats = stats_season.rename(columns={\n",
    "    'Tm': 'Team',\n",
    "    'Pos':'Position (Season)',\n",
    "    'TRB':'Rebounds',\n",
    "    'STL':'Steals',\n",
    "    'BLK':'Blocks',\n",
    "    'AST':'Assists',\n",
    "    'PTS':'Points',\n",
    "    'PER':'Player Rating'})\n",
    "# dirty_stats"
   ]
  },
  {
   "cell_type": "code",
   "execution_count": 857,
   "metadata": {},
   "outputs": [],
   "source": [
    "season_stats = pd.merge(dirty_stats, Team_LL, how='left', on=[\"Team\",\"Team\"])\n",
    "# season_stats.count()"
   ]
  },
  {
   "cell_type": "code",
   "execution_count": 860,
   "metadata": {},
   "outputs": [],
   "source": [
    "# Select only the Columns that are needed.\n",
    "\n",
    "new_columns = [\n",
    "    'Year',\n",
    "    'Player',\n",
    "    'Position (Season)',\n",
    "    'Team',\n",
    "    'Team Name',\n",
    "    'Team Lat',\n",
    "    'Team Lng',\n",
    "    'Rebounds',\n",
    "    'Steals',\n",
    "    'Blocks',\n",
    "    'Assists',\n",
    "    'Points',\n",
    "    'Player Rating']\n",
    "stats_col= season_stats[new_columns]\n",
    "# stats_col"
   ]
  },
  {
   "cell_type": "code",
   "execution_count": 861,
   "metadata": {},
   "outputs": [
    {
     "data": {
      "text/plain": [
       "Year                 2938\n",
       "Player               2938\n",
       "Position (Season)    2938\n",
       "Team                 2938\n",
       "Team Name            2938\n",
       "Team Lat             2938\n",
       "Team Lng             2938\n",
       "Rebounds             2938\n",
       "Steals               2938\n",
       "Blocks               2938\n",
       "Assists              2938\n",
       "Points               2938\n",
       "Player Rating        2936\n",
       "dtype: int64"
      ]
     },
     "execution_count": 861,
     "metadata": {},
     "output_type": "execute_result"
    }
   ],
   "source": [
    "# Select only the 2010-2015 Seaason statistic\n",
    "\n",
    "STATS = stats_col.loc[(stats_col['Year']>=2010)&(stats_col['Year']<2015)]\n",
    "STATS.count()"
   ]
  },
  {
   "cell_type": "code",
   "execution_count": 863,
   "metadata": {},
   "outputs": [],
   "source": [
    "# Merge the Clean PLayer Profile with the Clean Player Stats\n",
    "\n",
    "NBA = pd.merge(Player_Profile,STATS, how='left', on=[\"Player\",\"Player\"])\n",
    "NBA = NBA.dropna(axis = 0, how ='any')\n",
    "# NBA.count()"
   ]
  },
  {
   "cell_type": "code",
   "execution_count": 864,
   "metadata": {},
   "outputs": [
    {
     "data": {
      "text/plain": [
       "Player               2216\n",
       "State                2216\n",
       "position             2216\n",
       "Latitude             2216\n",
       "Longitude            2216\n",
       "Height (cm)          2216\n",
       "Weight (lbs)         2216\n",
       "Year                 2216\n",
       "Position (Season)    2216\n",
       "Team                 2216\n",
       "Team Name            2216\n",
       "Team Lat             2216\n",
       "Team Lng             2216\n",
       "Rebounds             2216\n",
       "Steals               2216\n",
       "Blocks               2216\n",
       "Assists              2216\n",
       "Points               2216\n",
       "Player Rating        2216\n",
       "College              2044\n",
       "MapPt                2216\n",
       "dtype: int64"
      ]
     },
     "execution_count": 864,
     "metadata": {},
     "output_type": "execute_result"
    }
   ],
   "source": [
    "# Add the Players Colleges if they attended\n",
    "\n",
    "NBAProfile = pd.merge(NBA, P_college, how='left', on=[\"Player\",\"Player\"])\n",
    "NBAProfile['MapPt'] = pd.Series(3, index=NBAProfile.index)\n",
    "NBAProfile.count()"
   ]
  },
  {
   "cell_type": "code",
   "execution_count": 785,
   "metadata": {},
   "outputs": [],
   "source": [
    "import gmaps\n",
    "from api_keys import g_key"
   ]
  },
  {
   "cell_type": "code",
   "execution_count": 786,
   "metadata": {},
   "outputs": [],
   "source": [
    "gmaps.configure(api_key=g_key)"
   ]
  },
  {
   "cell_type": "code",
   "execution_count": 831,
   "metadata": {},
   "outputs": [],
   "source": [
    "birthlocations = NBAProfile[[\"Latitude\", \"Longitude\"]]\n",
    "Teamlocations = NBAProfile[[\"Team Lat\", \"Team Lng\"]]\n",
    "MP = NBAProfile[\"MapPt\"].astype(float)"
   ]
  },
  {
   "cell_type": "code",
   "execution_count": 814,
   "metadata": {},
   "outputs": [
    {
     "data": {
      "application/vnd.jupyter.widget-view+json": {
       "model_id": "5a93a3661bcf4b1197a43ea5e7ff244a",
       "version_major": 2,
       "version_minor": 0
      },
      "text/plain": [
       "Figure(layout=FigureLayout(height='420px'))"
      ]
     },
     "metadata": {},
     "output_type": "display_data"
    }
   ],
   "source": [
    "# Plot Heatmap\n",
    "fig = gmaps.figure()\n",
    "\n",
    "# Create heat layer\n",
    "heat_layerB = gmaps.heatmap_layer(birthlocations, weights=(NBAProfile['Player Rating']*NBAProfile['Player Rating']), \n",
    "                                 dissipating=False, max_intensity=30000,\n",
    "                                 point_radius=1)\n",
    "# Add layer\n",
    "fig.add_layer(heat_layerB)\n",
    "\n",
    "# Display figure\n",
    "# print(Player_Profile['State'].value_counts())\n",
    "fig"
   ]
  },
  {
   "cell_type": "code",
   "execution_count": 793,
   "metadata": {},
   "outputs": [
    {
     "data": {
      "application/vnd.jupyter.widget-view+json": {
       "model_id": "c886f379269045a8a48187af3c9f20d6",
       "version_major": 2,
       "version_minor": 0
      },
      "text/plain": [
       "Figure(layout=FigureLayout(height='420px'))"
      ]
     },
     "metadata": {},
     "output_type": "display_data"
    }
   ],
   "source": [
    "# Plot Heatmap\n",
    "fig2 = gmaps.figure()\n",
    "\n",
    "# Create heat layer\n",
    "heat_layerT = gmaps.heatmap_layer(Teamlocations, weights=MP, \n",
    "                                 dissipating=False, max_intensity=250,\n",
    "                                 point_radius=1)\n",
    "# Add layer\n",
    "fig2.add_layer(heat_layerT)\n",
    "\n",
    "# Display figure\n",
    "# print(Player_Profile['State'].value_counts())\n",
    "fig2"
   ]
  },
  {
   "cell_type": "code",
   "execution_count": null,
   "metadata": {},
   "outputs": [],
   "source": []
  }
 ],
 "metadata": {
  "kernelspec": {
   "display_name": "Python 3",
   "language": "python",
   "name": "python3"
  },
  "language_info": {
   "codemirror_mode": {
    "name": "ipython",
    "version": 3
   },
   "file_extension": ".py",
   "mimetype": "text/x-python",
   "name": "python",
   "nbconvert_exporter": "python",
   "pygments_lexer": "ipython3",
   "version": "3.7.4"
  }
 },
 "nbformat": 4,
 "nbformat_minor": 2
}

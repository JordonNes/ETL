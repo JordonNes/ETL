{
 "cells": [
  {
   "cell_type": "code",
   "execution_count": 650,
   "metadata": {},
   "outputs": [],
   "source": [
    "#dependencies\n",
    "import numpy as np\n",
    "import pandas as pd\n",
    "import os\n",
    "import csv"
   ]
  },
  {
   "cell_type": "code",
   "execution_count": 651,
   "metadata": {},
   "outputs": [
    {
     "name": "stdout",
     "output_type": "stream",
     "text": [
      "Number of Rows 3922\n"
     ]
    }
   ],
   "source": [
    "# We Import NBA PLayer's Career Profile\n",
    "\n",
    "players = './resources/Players.csv'\n",
    "career= pd.read_csv(players)\n",
    "\n",
    "print('Number of Rows', len(career))\n",
    "# career.count()"
   ]
  },
  {
   "cell_type": "code",
   "execution_count": 652,
   "metadata": {},
   "outputs": [
    {
     "name": "stdout",
     "output_type": "stream",
     "text": [
      "Number of Rows 4550\n"
     ]
    }
   ],
   "source": [
    "#  We Import NBA Player's Season Profiles\n",
    "\n",
    "player_data = './resources/player_data.csv'\n",
    "plyr_season = pd.read_csv(player_data)\n",
    "\n",
    "# Renames the Column 'name' to 'Player'\n",
    "plyr_season = plyr_season.rename(columns={'name': 'Player'})\n",
    "\n",
    "print('Number of Rows', len(plyr_season))\n",
    "# plyr_season.count()"
   ]
  },
  {
   "cell_type": "code",
   "execution_count": 653,
   "metadata": {},
   "outputs": [
    {
     "name": "stdout",
     "output_type": "stream",
     "text": [
      "Number of Rows 4550\n"
     ]
    }
   ],
   "source": [
    "# Merge the plyr_season & career Dataframes on 'Players'\n",
    "\n",
    "Player_Profile_Dirty = pd.merge(plyr_season, career, how='left', on=[\"Player\",\"Player\"])\n",
    "\n",
    "print('Number of Rows', len(Player_Profile_Dirty))\n",
    "# Player_Profile_Dirty.count()"
   ]
  },
  {
   "cell_type": "code",
   "execution_count": 654,
   "metadata": {
    "scrolled": true
   },
   "outputs": [
    {
     "name": "stdout",
     "output_type": "stream",
     "text": [
      "length of P_htwt 4550\n",
      "length of P_college 4550\n",
      "length of Player_htwt 4550\n"
     ]
    }
   ],
   "source": [
    "# Create DataFrames and edit Column Names\n",
    "\n",
    "htwt = [\n",
    "    'Player',\n",
    "    'height_y',\n",
    "    'weight_x']\n",
    "player_htwt= Player_Profile_Dirty[htwt]\n",
    "\n",
    "# Renames Columns\n",
    "P_htwt = player_htwt.rename(columns={\n",
    "    'height_y':'Height (cm)',\n",
    "    'weight_x':'Weight (lbs)'})\n",
    "print('length of P_htwt', len(P_htwt))\n",
    "\n",
    "\n",
    "# -----------\n",
    "college = [\n",
    "    'Player',\n",
    "    'college']\n",
    "player_college= Player_Profile_Dirty[college]\n",
    "\n",
    "# Renames Columns\n",
    "P_college = player_college.rename(columns={\n",
    "   'college':'College'})\n",
    "print('length of P_college', len(P_college))\n",
    "\n",
    "\n",
    "# -----------\n",
    "new_columns = [\n",
    "'Player',\n",
    "'birth_state']\n",
    "PP= Player_Profile_Dirty[new_columns]\n",
    "\n",
    "# Renames Columns\n",
    "PPD = PP.rename(columns={\n",
    "    'birth_state':'State',})\n",
    "print('length of Player_htwt', len(PPD))\n",
    "\n",
    "# P_htwt\n",
    "# P_college.count()\n",
    "# PPD.count()\n"
   ]
  },
  {
   "cell_type": "code",
   "execution_count": 655,
   "metadata": {},
   "outputs": [],
   "source": [
    "# We Import United States latitude and Longitude\n",
    "\n",
    "LL= './resources/50_SLat_Lng.csv'\n",
    "ltlg= pd.read_csv(LL)\n",
    "\n",
    "# Renames Colums\n",
    "lat_lng= ltlg.rename(columns={\n",
    "    'Place Name':'State'})\n",
    "# lat_lng"
   ]
  },
  {
   "cell_type": "code",
   "execution_count": 656,
   "metadata": {},
   "outputs": [
    {
     "name": "stdout",
     "output_type": "stream",
     "text": [
      "4550\n"
     ]
    },
    {
     "data": {
      "text/plain": [
       "Player       4550\n",
       "State        3353\n",
       "Latitude     2928\n",
       "Longitude    2928\n",
       "dtype: int64"
      ]
     },
     "execution_count": 656,
     "metadata": {},
     "output_type": "execute_result"
    }
   ],
   "source": [
    "#  Merge Player Profile Dataframe  with Lat. & Lng Dataframe\n",
    "\n",
    "Player_Profile_State = pd.merge(PPD,lat_lng, how='left', on=[\"State\",\"State\"])\n",
    "print(len(Player_Profile_State))\n",
    "Player_Profile_State.count()"
   ]
  },
  {
   "cell_type": "code",
   "execution_count": 657,
   "metadata": {},
   "outputs": [
    {
     "name": "stdout",
     "output_type": "stream",
     "text": [
      "Old data frame length: 4550 \n",
      "New data frame length: 2928 \n",
      "Number of Player Not Born In USA:  1622\n"
     ]
    }
   ],
   "source": [
    "# Remove Players not Born in the USA (1622)\n",
    "# Remove Duplicate Players by -> name and state\n",
    "\n",
    "Player_State = Player_Profile_State.dropna(axis = 0, how ='any') \n",
    "\n",
    "print(\"Old data frame length:\", len(Player_Profile_State),\n",
    "      \"\\nNew data frame length:\", len(Player_State),\n",
    "      \"\\nNumber of Player Not Born In USA: \",(len(Player_Profile_State)-len(Player_State)))\n",
    "# Player_State"
   ]
  },
  {
   "cell_type": "code",
   "execution_count": 693,
   "metadata": {},
   "outputs": [
    {
     "name": "stdout",
     "output_type": "stream",
     "text": [
      "Old data frame length: 2928 \n",
      "New data frame length: 2845 \n",
      "Number of Players with Incomplete Ht&Wt Data:  83\n"
     ]
    },
    {
     "data": {
      "text/plain": [
       "Player          2845\n",
       "State           2845\n",
       "Latitude        2845\n",
       "Longitude       2845\n",
       "Height (cm)     2845\n",
       "Weight (lbs)    2844\n",
       "dtype: int64"
      ]
     },
     "execution_count": 693,
     "metadata": {},
     "output_type": "execute_result"
    }
   ],
   "source": [
    "# ADD USA BORN PLAYERS  College Height and Weight\n",
    "# Remove Duplicate Players by -> name and state\n",
    "# Remove player with imcomplete Ht & Wt Data\n",
    "# Merge The Dataframes\n",
    "\n",
    "Player_htwt = pd.merge(Player_State, P_htwt, how='left', on=[\"Player\",\"Player\"])\n",
    "Player_htwt.drop_duplicates(subset =('Player', 'State'), keep = False, inplace = True)\n",
    "P_htwt_Clean = Player_htwt\n",
    "\n",
    "# .dropna(axis = 0, how ='any') \n",
    "\n",
    "Player_Profile = P_htwt_Clean\n",
    "#                           , P_college, how='left', on=[\"Player\",\"Player\"])\n",
    "# Player_Profile = pd.merge(Player_htwt, P_college, how='left', on=[\"Player\",\"Player\"])\n",
    "\n",
    "print(\"Old data frame length:\", len(Player_State),\n",
    "      \"\\nNew data frame length:\", len(Player_Profile),\n",
    "      \"\\nNumber of Players with Incomplete Ht&Wt Data: \",len(Player_State)-len(Player_Profile))\n",
    "Player_htwt.count()\n",
    "Player_Profile.count()"
   ]
  },
  {
   "cell_type": "code",
   "execution_count": 694,
   "metadata": {},
   "outputs": [],
   "source": [
    "import gmaps\n",
    "from api_keys import g_key"
   ]
  },
  {
   "cell_type": "code",
   "execution_count": 695,
   "metadata": {},
   "outputs": [],
   "source": [
    "gmaps.configure(api_key=g_key)\n"
   ]
  },
  {
   "cell_type": "code",
   "execution_count": 696,
   "metadata": {},
   "outputs": [
    {
     "data": {
      "text/plain": [
       "Player          2845\n",
       "State           2845\n",
       "Latitude        2845\n",
       "Longitude       2845\n",
       "Height (cm)     2845\n",
       "Weight (lbs)    2844\n",
       "MapPt           2845\n",
       "dtype: int64"
      ]
     },
     "execution_count": 696,
     "metadata": {},
     "output_type": "execute_result"
    }
   ],
   "source": [
    "Player_Profile['MapPt'] = pd.Series(3, index=Player_Profile.index)\n",
    "\n",
    "locations = Player_Profile[[\"Latitude\", \"Longitude\"]]\n",
    "birth_state = Player_Profile[\"MapPt\"].astype(float)\n",
    "Player_Profile.count()"
   ]
  },
  {
   "cell_type": "code",
   "execution_count": 697,
   "metadata": {},
   "outputs": [
    {
     "data": {
      "application/vnd.jupyter.widget-view+json": {
       "model_id": "be6e752054d546009eb862af3408d310",
       "version_major": 2,
       "version_minor": 0
      },
      "text/plain": [
       "Figure(layout=FigureLayout(height='420px'))"
      ]
     },
     "metadata": {},
     "output_type": "display_data"
    }
   ],
   "source": [
    "# Plot Heatmap\n",
    "fig = gmaps.figure()\n",
    "\n",
    "# Create heat layer\n",
    "heat_layer = gmaps.heatmap_layer(locations, weights=birth_state, \n",
    "                                 dissipating=False, max_intensity=300,\n",
    "                                 point_radius=1)\n",
    "# Add layer\n",
    "fig.add_layer(heat_layer)\n",
    "\n",
    "# Display figure\n",
    "# print(Player_Profile['State'].value_counts())\n",
    "fig"
   ]
  },
  {
   "cell_type": "code",
   "execution_count": null,
   "metadata": {},
   "outputs": [],
   "source": []
  },
  {
   "cell_type": "code",
   "execution_count": 698,
   "metadata": {},
   "outputs": [],
   "source": [
    "# We Import NBA Teams Location\n",
    "\n",
    "tll = './resources/NBATeamLL.csv'\n",
    "Team_LL= pd.read_csv(tll)\n",
    "# Team_LL"
   ]
  },
  {
   "cell_type": "code",
   "execution_count": 699,
   "metadata": {},
   "outputs": [],
   "source": [
    "# # We Import NBA Player Season Stats\n",
    "\n",
    "Season_stats = './resources/Seasons_Stats.csv'\n",
    "stats_season = pd.read_csv(Season_stats)\n",
    "#  Renames Columns\n",
    "\n",
    "dirty_stats = stats_season.rename(columns={\n",
    "    'Tm': 'Team',\n",
    "    'Pos':'Position (Season)',\n",
    "    'TRB':'Rebounds',\n",
    "    'STL':'Steals',\n",
    "    'BLK':'Blocks',\n",
    "    'AST':'Assists',\n",
    "    'PTS':'Points',\n",
    "    'PER':'Player Rating'})\n",
    "# dirty_stats"
   ]
  },
  {
   "cell_type": "code",
   "execution_count": 700,
   "metadata": {},
   "outputs": [
    {
     "data": {
      "text/plain": [
       "Unnamed: 0           24691\n",
       "Year                 24624\n",
       "Player               24624\n",
       "Position (Season)    24624\n",
       "Age                  24616\n",
       "Team                 24624\n",
       "G                    24624\n",
       "GS                   18233\n",
       "MP                   24138\n",
       "Player Rating        24101\n",
       "TS%                  24538\n",
       "3PAr                 18839\n",
       "FTr                  24525\n",
       "ORB%                 20792\n",
       "DRB%                 20792\n",
       "TRB%                 21571\n",
       "AST%                 22555\n",
       "STL%                 20792\n",
       "BLK%                 20792\n",
       "TOV%                 19582\n",
       "USG%                 19640\n",
       "blanl                    0\n",
       "OWS                  24585\n",
       "DWS                  24585\n",
       "WS                   24585\n",
       "WS/48                24101\n",
       "blank2                   0\n",
       "OBPM                 20797\n",
       "DBPM                 20797\n",
       "BPM                  20797\n",
       "VORP                 20797\n",
       "FG                   24624\n",
       "FGA                  24624\n",
       "FG%                  24525\n",
       "3P                   18927\n",
       "3PA                  18927\n",
       "3P%                  15416\n",
       "2P                   24624\n",
       "2PA                  24624\n",
       "2P%                  24496\n",
       "eFG%                 24525\n",
       "FT                   24624\n",
       "FTA                  24624\n",
       "FT%                  23766\n",
       "ORB                  20797\n",
       "DRB                  20797\n",
       "Rebounds             24312\n",
       "Assists              24624\n",
       "Steals               20797\n",
       "Blocks               20797\n",
       "TOV                  19645\n",
       "PF                   24624\n",
       "Points               24624\n",
       "Team Name            20960\n",
       "Team Lng             20960\n",
       "Team Lat             20960\n",
       "dtype: int64"
      ]
     },
     "execution_count": 700,
     "metadata": {},
     "output_type": "execute_result"
    }
   ],
   "source": [
    "season_stats = pd.merge(dirty_stats, Team_LL, how='left', on=[\"Team\",\"Team\"])\n",
    "season_stats.count()"
   ]
  },
  {
   "cell_type": "code",
   "execution_count": 701,
   "metadata": {},
   "outputs": [],
   "source": [
    "# Select only the Columns that are needed.\n",
    "\n",
    "new_columns = [\n",
    "    'Year',\n",
    "    'Player',\n",
    "    'Position (Season)',\n",
    "    'Team',\n",
    "    'Team Name',\n",
    "    'Team Lat',\n",
    "    'Team Lng',\n",
    "    'Rebounds',\n",
    "    'Steals',\n",
    "    'Blocks',\n",
    "    'Assists',\n",
    "    'Points',\n",
    "    'Player Rating']\n",
    "stats_col= season_stats[new_columns]\n",
    "# stats_col"
   ]
  },
  {
   "cell_type": "code",
   "execution_count": 708,
   "metadata": {},
   "outputs": [
    {
     "data": {
      "text/plain": [
       "Year                 2938\n",
       "Player               2938\n",
       "Position (Season)    2938\n",
       "Team                 2938\n",
       "Team Name            2938\n",
       "Team Lat             2938\n",
       "Team Lng             2938\n",
       "Rebounds             2938\n",
       "Steals               2938\n",
       "Blocks               2938\n",
       "Assists              2938\n",
       "Points               2938\n",
       "Player Rating        2936\n",
       "dtype: int64"
      ]
     },
     "execution_count": 708,
     "metadata": {},
     "output_type": "execute_result"
    }
   ],
   "source": [
    "# Select only the 2010-2015 Seaason statistic\n",
    "\n",
    "STATS = stats_col.loc[(stats_col['Year']>=2010)&(stats_col['Year']<2015)]\n",
    "STATS.count()"
   ]
  },
  {
   "cell_type": "code",
   "execution_count": 711,
   "metadata": {},
   "outputs": [
    {
     "data": {
      "text/plain": [
       "Year                 2216\n",
       "Player               2216\n",
       "Position (Season)    2216\n",
       "Team                 2216\n",
       "Team Name            2216\n",
       "Team Lat             2216\n",
       "Team Lng             2216\n",
       "Rebounds             2216\n",
       "Steals               2216\n",
       "Blocks               2216\n",
       "Assists              2216\n",
       "Points               2216\n",
       "Player Rating        2216\n",
       "State                2216\n",
       "Latitude             2216\n",
       "Longitude            2216\n",
       "Height (cm)          2216\n",
       "Weight (lbs)         2216\n",
       "MapPt                2216\n",
       "dtype: int64"
      ]
     },
     "execution_count": 711,
     "metadata": {},
     "output_type": "execute_result"
    }
   ],
   "source": [
    "# Merge the Clean PLayer Profile with the Clean Player Stats\n",
    "\n",
    "ZZZ = pd.merge(STATS,Player_Profile, how='left', on=[\"Player\",\"Player\"])\n",
    "ZZZ['MapPt'] = pd.Series(3, index=ZZZ.index)\n",
    "\n",
    "NBA_Clean = ZZZ.dropna(axis = 0, how ='any') \n",
    "NBA_Clean.count()"
   ]
  },
  {
   "cell_type": "code",
   "execution_count": 715,
   "metadata": {},
   "outputs": [
    {
     "data": {
      "text/plain": [
       "Year                 2216\n",
       "Player               2216\n",
       "Position (Season)    2216\n",
       "Team                 2216\n",
       "Team Name            2216\n",
       "Team Lat             2216\n",
       "Team Lng             2216\n",
       "Rebounds             2216\n",
       "Steals               2216\n",
       "Blocks               2216\n",
       "Assists              2216\n",
       "Points               2216\n",
       "Player Rating        2216\n",
       "State                2216\n",
       "Latitude             2216\n",
       "Longitude            2216\n",
       "Height (cm)          2216\n",
       "Weight (lbs)         2216\n",
       "MapPt                2216\n",
       "College              2044\n",
       "dtype: int64"
      ]
     },
     "execution_count": 715,
     "metadata": {},
     "output_type": "execute_result"
    }
   ],
   "source": [
    "Profile = pd.merge(NBA_Clean, P_college, how='left', on=[\"Player\",\"Player\"])\n",
    "Profile.count()"
   ]
  },
  {
   "cell_type": "code",
   "execution_count": null,
   "metadata": {},
   "outputs": [],
   "source": []
  },
  {
   "cell_type": "code",
   "execution_count": null,
   "metadata": {},
   "outputs": [],
   "source": []
  },
  {
   "cell_type": "code",
   "execution_count": 704,
   "metadata": {},
   "outputs": [
    {
     "name": "stdout",
     "output_type": "stream",
     "text": [
      "Old data frame length: 2938 \n",
      "New data frame length: 2216 \n",
      "Number of rows with at least 1 NA value:  722\n"
     ]
    }
   ],
   "source": [
    "\n",
    "Clean_data = ZZZ.dropna(axis = 0, how ='any') \n",
    "\n",
    "print(\"Old data frame length:\", len(ZZZ), \"\\nNew data frame length:\",  \n",
    "       len(Clean_data), \"\\nNumber of rows with at least 1 NA value: \", \n",
    "       (len(ZZZ)-len(Clean_data)))"
   ]
  },
  {
   "cell_type": "code",
   "execution_count": null,
   "metadata": {},
   "outputs": [],
   "source": []
  },
  {
   "cell_type": "code",
   "execution_count": 705,
   "metadata": {},
   "outputs": [],
   "source": [
    "# Player_Profile_Clean['college'].value_counts()"
   ]
  },
  {
   "cell_type": "code",
   "execution_count": null,
   "metadata": {},
   "outputs": [],
   "source": []
  }
 ],
 "metadata": {
  "kernelspec": {
   "display_name": "Python 3",
   "language": "python",
   "name": "python3"
  },
  "language_info": {
   "codemirror_mode": {
    "name": "ipython",
    "version": 3
   },
   "file_extension": ".py",
   "mimetype": "text/x-python",
   "name": "python",
   "nbconvert_exporter": "python",
   "pygments_lexer": "ipython3",
   "version": "3.7.4"
  }
 },
 "nbformat": 4,
 "nbformat_minor": 2
}
